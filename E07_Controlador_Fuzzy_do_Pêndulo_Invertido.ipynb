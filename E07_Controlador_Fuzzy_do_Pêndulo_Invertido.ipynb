{
  "nbformat": 4,
  "nbformat_minor": 0,
  "metadata": {
    "colab": {
      "name": "E07 - Controlador Fuzzy do Pêndulo Invertido.ipynb",
      "provenance": [],
      "include_colab_link": true
    },
    "kernelspec": {
      "name": "python3",
      "display_name": "Python 3"
    }
  },
  "cells": [
    {
      "cell_type": "markdown",
      "metadata": {
        "id": "view-in-github",
        "colab_type": "text"
      },
      "source": [
        "<a href=\"https://colab.research.google.com/github/bassoq/python-coding/blob/main/E07_Controlador_Fuzzy_do_P%C3%AAndulo_Invertido.ipynb\" target=\"_parent\"><img src=\"https://colab.research.google.com/assets/colab-badge.svg\" alt=\"Open In Colab\"/></a>"
      ]
    },
    {
      "cell_type": "markdown",
      "metadata": {
        "id": "aXID67bWgXN7"
      },
      "source": [
        "# Setup inicial\n",
        "\n",
        "Nesse trecho preparamos a máquina virtual no Google Colab para executar o ambiente do pêndulo invertido com ações contínuas, mostrando o resultado como um vídeo"
      ]
    },
    {
      "cell_type": "code",
      "metadata": {
        "id": "E5UiFkCvZjyb",
        "cellView": "form"
      },
      "source": [
        "#@title\n",
        "%%capture\n",
        "!pip install gym pyvirtualdisplay > /dev/null 2>&1\n",
        "!apt-get install -y xvfb python-opengl ffmpeg > /dev/null 2>&1\n",
        "\n",
        "import gym\n",
        "from gym import logger as gymlogger\n",
        "from gym.wrappers import Monitor\n",
        "gymlogger.set_level(40) #error only\n",
        "import tensorflow as tf\n",
        "import numpy as np\n",
        "import random\n",
        "import matplotlib\n",
        "import matplotlib.pyplot as plt\n",
        "%matplotlib inline\n",
        "import math\n",
        "import glob\n",
        "import io\n",
        "import base64\n",
        "from IPython.display import HTML\n",
        "\n",
        "from IPython import display as ipythondisplay\n",
        "\n",
        "from pyvirtualdisplay import Display\n",
        "display = Display(visible=0, size=(1400, 900))\n",
        "display.start()\n",
        "\n",
        "\"\"\"\n",
        "Utility functions to enable video recording of gym environment and displaying it\n",
        "To enable video, just do \"env = wrap_env(env)\"\"\n",
        "\"\"\"\n",
        "\n",
        "def show_video():\n",
        "  mp4list = glob.glob('video/*.mp4')\n",
        "  if len(mp4list) > 0:\n",
        "    mp4 = mp4list[0]\n",
        "    video = io.open(mp4, 'r+b').read()\n",
        "    encoded = base64.b64encode(video)\n",
        "    ipythondisplay.display(HTML(data='''<video alt=\"test\" autoplay \n",
        "                loop controls style=\"height: 400px;\">\n",
        "                <source src=\"data:video/mp4;base64,{0}\" type=\"video/mp4\" />\n",
        "             </video>'''.format(encoded.decode('ascii'))))\n",
        "  else: \n",
        "    print(\"Could not find video\")\n",
        "    \n",
        "\n",
        "def wrap_env(env):\n",
        "  env = Monitor(env, './video', force=True)\n",
        "  return env\n",
        "\n",
        "\"\"\"\n",
        "Classic cart-pole system implemented by Rich Sutton et al.\n",
        "Copied from http://incompleteideas.net/sutton/book/code/pole.c\n",
        "permalink: https://perma.cc/C9ZM-652R\n",
        "\n",
        "Continuous version by Ian Danforth\n",
        "\"\"\"\n",
        "\n",
        "import math\n",
        "import gym\n",
        "from gym import spaces, logger\n",
        "from gym.utils import seeding\n",
        "import numpy as np\n",
        "\n",
        "\n",
        "class ContinuousCartPoleEnv(gym.Env):\n",
        "    metadata = {\n",
        "        'render.modes': ['human', 'rgb_array'],\n",
        "        'video.frames_per_second': 50\n",
        "    }\n",
        "\n",
        "    def __init__(self):\n",
        "        self.gravity = 9.8\n",
        "        self.masscart = 1.0\n",
        "        self.masspole = 0.1\n",
        "        self.total_mass = (self.masspole + self.masscart)\n",
        "        self.length = 0.5  # actually half the pole's length\n",
        "        self.polemass_length = (self.masspole * self.length)\n",
        "        self.force_mag = 30.0\n",
        "        self.tau = 0.02  # seconds between state updates\n",
        "        self.min_action = -1.0\n",
        "        self.max_action = 1.0\n",
        "\n",
        "        # Angle at which to fail the episode\n",
        "        self.theta_threshold_radians = 12 * 2 * math.pi / 360\n",
        "        self.x_threshold = 2.4\n",
        "\n",
        "        # Angle limit set to 2 * theta_threshold_radians so failing observation\n",
        "        # is still within bounds\n",
        "        high = np.array([\n",
        "            self.x_threshold * 2,\n",
        "            np.finfo(np.float32).max,\n",
        "            self.theta_threshold_radians * 2,\n",
        "            np.finfo(np.float32).max])\n",
        "\n",
        "        self.action_space = spaces.Box(\n",
        "            low=self.min_action,\n",
        "            high=self.max_action,\n",
        "            shape=(1,)\n",
        "        )\n",
        "        self.observation_space = spaces.Box(-high, high)\n",
        "\n",
        "        self.seed()\n",
        "        self.viewer = None\n",
        "        self.state = None\n",
        "\n",
        "        self.steps_beyond_done = None\n",
        "\n",
        "    def seed(self, seed=None):\n",
        "        self.np_random, seed = seeding.np_random(seed)\n",
        "        return [seed]\n",
        "\n",
        "    def stepPhysics(self, force):\n",
        "        x, x_dot, theta, theta_dot = self.state\n",
        "        costheta = math.cos(theta)\n",
        "        sintheta = math.sin(theta)\n",
        "        temp = (force + self.polemass_length * theta_dot * theta_dot * sintheta) / self.total_mass\n",
        "        thetaacc = (self.gravity * sintheta - costheta * temp) / \\\n",
        "            (self.length * (4.0/3.0 - self.masspole * costheta * costheta / self.total_mass))\n",
        "        xacc = temp - self.polemass_length * thetaacc * costheta / self.total_mass\n",
        "        x = x + self.tau * x_dot\n",
        "        x_dot = x_dot + self.tau * xacc\n",
        "        theta = theta + self.tau * theta_dot\n",
        "        theta_dot = theta_dot + self.tau * thetaacc\n",
        "        return (x, x_dot, theta, theta_dot)\n",
        "\n",
        "    def step(self, action):\n",
        "        assert self.action_space.contains(action), \\\n",
        "            \"%r (%s) invalid\" % (action, type(action))\n",
        "        # Cast action to float to strip np trappings\n",
        "        force = self.force_mag * float(action)\n",
        "        self.state = self.stepPhysics(force)\n",
        "        x, x_dot, theta, theta_dot = self.state\n",
        "        done = x < -self.x_threshold \\\n",
        "            or x > self.x_threshold \\\n",
        "            or theta < -self.theta_threshold_radians \\\n",
        "            or theta > self.theta_threshold_radians\n",
        "        done = bool(done)\n",
        "\n",
        "        if not done:\n",
        "            reward = 1.0\n",
        "        elif self.steps_beyond_done is None:\n",
        "            # Pole just fell!\n",
        "            self.steps_beyond_done = 0\n",
        "            reward = 1.0\n",
        "        else:\n",
        "            if self.steps_beyond_done == 0:\n",
        "                logger.warn(\"\"\"\n",
        "You are calling 'step()' even though this environment has already returned\n",
        "done = True. You should always call 'reset()' once you receive 'done = True'\n",
        "Any further steps are undefined behavior.\n",
        "                \"\"\")\n",
        "            self.steps_beyond_done += 1\n",
        "            reward = 0.0\n",
        "\n",
        "        return np.array(self.state), reward, done, {}\n",
        "\n",
        "    def reset(self):\n",
        "        self.state = self.np_random.uniform(low=-0.05, high=0.05, size=(4,))\n",
        "        self.steps_beyond_done = None\n",
        "        return np.array(self.state)\n",
        "\n",
        "    def render(self, mode='human'):\n",
        "        screen_width = 600\n",
        "        screen_height = 400\n",
        "\n",
        "        world_width = self.x_threshold * 2\n",
        "        scale = screen_width /world_width\n",
        "        carty = 100  # TOP OF CART\n",
        "        polewidth = 10.0\n",
        "        polelen = scale * 1.0\n",
        "        cartwidth = 50.0\n",
        "        cartheight = 30.0\n",
        "\n",
        "        if self.viewer is None:\n",
        "            from gym.envs.classic_control import rendering\n",
        "            self.viewer = rendering.Viewer(screen_width, screen_height)\n",
        "            l, r, t, b = -cartwidth / 2, cartwidth / 2, cartheight / 2, -cartheight / 2\n",
        "            axleoffset = cartheight / 4.0\n",
        "            cart = rendering.FilledPolygon([(l, b), (l, t), (r, t), (r, b)])\n",
        "            self.carttrans = rendering.Transform()\n",
        "            cart.add_attr(self.carttrans)\n",
        "            self.viewer.add_geom(cart)\n",
        "            l, r, t, b = -polewidth / 2, polewidth / 2, polelen-polewidth / 2, -polewidth / 2\n",
        "            pole = rendering.FilledPolygon([(l, b), (l, t), (r, t), (r, b)])\n",
        "            pole.set_color(.8, .6, .4)\n",
        "            self.poletrans = rendering.Transform(translation=(0, axleoffset))\n",
        "            pole.add_attr(self.poletrans)\n",
        "            pole.add_attr(self.carttrans)\n",
        "            self.viewer.add_geom(pole)\n",
        "            self.axle = rendering.make_circle(polewidth / 2)\n",
        "            self.axle.add_attr(self.poletrans)\n",
        "            self.axle.add_attr(self.carttrans)\n",
        "            self.axle.set_color(.5, .5, .8)\n",
        "            self.viewer.add_geom(self.axle)\n",
        "            self.track = rendering.Line((0, carty), (screen_width, carty))\n",
        "            self.track.set_color(0, 0, 0)\n",
        "            self.viewer.add_geom(self.track)\n",
        "\n",
        "        if self.state is None:\n",
        "            return None\n",
        "\n",
        "        x = self.state\n",
        "        cartx = x[0] * scale + screen_width / 2.0  # MIDDLE OF CART\n",
        "        self.carttrans.set_translation(cartx, carty)\n",
        "        self.poletrans.set_rotation(-x[2])\n",
        "\n",
        "        return self.viewer.render(return_rgb_array=(mode == 'rgb_array'))\n",
        "\n",
        "    def close(self):\n",
        "        if self.viewer:\n",
        "            self.viewer.close()"
      ],
      "execution_count": null,
      "outputs": []
    },
    {
      "cell_type": "markdown",
      "metadata": {
        "id": "c4p90XU-grrX"
      },
      "source": [
        "# Inspecionando as entradas e saídas"
      ]
    },
    {
      "cell_type": "code",
      "metadata": {
        "id": "_oj3UFPSdDNv"
      },
      "source": [
        "# Cria o ambiente do pêndulo invertido contínuo\n",
        "env = wrap_env(ContinuousCartPoleEnv())"
      ],
      "execution_count": null,
      "outputs": []
    },
    {
      "cell_type": "code",
      "metadata": {
        "id": "FSH1FkEndXtG",
        "colab": {
          "base_uri": "https://localhost:8080/"
        },
        "outputId": "d7ab12ca-ba14-4a5f-87e2-5bd7c0dcc2cd"
      },
      "source": [
        "# Examina as entradas e saídas\n",
        "print('Estados:')\n",
        "print(env.observation_space.low)\n",
        "print(env.observation_space.high)\n",
        "print('Ações:')\n",
        "print(env.action_space.low)\n",
        "print(env.action_space.high)"
      ],
      "execution_count": null,
      "outputs": [
        {
          "output_type": "stream",
          "name": "stdout",
          "text": [
            "Estados:\n",
            "[-4.8000002e+00 -3.4028235e+38 -4.1887903e-01 -3.4028235e+38]\n",
            "[4.8000002e+00 3.4028235e+38 4.1887903e-01 3.4028235e+38]\n",
            "Ações:\n",
            "[-1.]\n",
            "[1.]\n"
          ]
        }
      ]
    },
    {
      "cell_type": "markdown",
      "metadata": {
        "id": "VgHdYv56hbz5"
      },
      "source": [
        "# Fuzzy"
      ]
    },
    {
      "cell_type": "code",
      "metadata": {
        "id": "u-3M2KCRhetS"
      },
      "source": [
        "class Fuzzy():\n",
        "  '''\n",
        "  Escreva sua classe das variáveis Fuzzy\n",
        "  aqui, como mostrado no vídeo.\n",
        "  '''\n",
        "  def __init__(self,a,b,c):\n",
        "    self.a = a\n",
        "    self.b = b\n",
        "    self.c = c\n",
        "    self.fz = np.array([0,0,1,0,0])\n",
        "\n",
        "  def fuzzify(self,x):\n",
        "    #n neutro\n",
        "    if x < -self.a or x > self.a:\n",
        "      n = 0\n",
        "\n",
        "    else:\n",
        "      n = 1 - abs(x) / self.a\n",
        "\n",
        "    #baixo positivo\n",
        "    if x < 0 or x > self.b:\n",
        "      bp = 0\n",
        "\n",
        "    else:\n",
        "      bp = 1 - abs(x - self.a)/(self.b - self.a)\n",
        "\n",
        "    #Alto Positivo\n",
        "    if x < self.a:\n",
        "      ap = 0\n",
        "    elif x > self.b:\n",
        "      ap = 1\n",
        "    else:\n",
        "      ap = (x - self.a)/ (self.b - self.a)\n",
        "\n",
        "    #Baixo Negativo\n",
        "    if x > 0 or x <-self.b:\n",
        "      bn = 0\n",
        "\n",
        "    else:\n",
        "      bn = 1 - abs(x+self.a)/(self.b - self.a)\n",
        "\n",
        "    #Alto Negativo\n",
        "    if x > -self.a:\n",
        "      an = 0\n",
        "    elif x < -self.b:\n",
        "      an = 1\n",
        "    else:\n",
        "      an = 1 - (x-self.b) / (self.b - self.a)\n",
        "    \n",
        "    self.fz = np.array([an, bn, n, bp, ap])\n",
        "\n",
        "  def get(self):\n",
        "    return self.fz\n",
        "\n",
        "  def set(self,an,bn,n,bp,ap):\n",
        "    self.fz = np.array([an,bn,n,bp,ap])\n",
        "\n",
        "  def deffuzify(self):\n",
        "    x_an = -self.c\n",
        "    x_bn = -self.a\n",
        "    x_n = 0\n",
        "    x_bp = self.a\n",
        "    x_ap = self.c\n",
        "    an, bn, n, bp, ap = self.fz\n",
        "    s = an + bn + n + bp + ap\n",
        "    x = (x_an*an + x_bn*bn + x_n*n + x_bp*bp + x_ap*ap) /s\n",
        "    return x"
      ],
      "execution_count": null,
      "outputs": []
    },
    {
      "cell_type": "markdown",
      "source": [
        ""
      ],
      "metadata": {
        "id": "6UBEEP3tbdNq"
      }
    },
    {
      "cell_type": "code",
      "metadata": {
        "id": "NDidDq5Angwk"
      },
      "source": [
        "class FuzzyController():\n",
        "  '''\n",
        "  Escreva sua classe do controlador Fuzzy\n",
        "  aqui, como mostrado no vídeo.\n",
        "  '''\n",
        "  def __init__(self):\n",
        "    self.ang = Fuzzy(0.05, 0.2, 0.5)\n",
        "    self.velang = Fuzzy(0.5, 2.0, 5.0)\n",
        "    self.action = Fuzzy(0.1, 0.5, 1.0)\n",
        "\n",
        "  def compute(self, ang, velang):\n",
        "    self.ang.fuzzify(ang)\n",
        "    self.velang.fuzzify(velang)\n",
        "    aan, abn, an, abp, aap = self.ang.get()\n",
        "    van, vbn, vn, vbp, vap = self.velang.get()\n",
        "    ap = max(min(an, van), min(aan, vn))\n",
        "    bp = max(min(an, vbn), min(abn, vn))\n",
        "    n = max(min(abp, vbn), min(an, vn), min(abn, vbp))\n",
        "    bn = max(min(an, vbp), min(abp, vn))\n",
        "    an = max(min(an, vap), min(aap, vn))\n",
        "\n",
        "    s = an+bn+n+bp+ap\n",
        "\n",
        "    if s==0:\n",
        "      self.action.set(0,0,1,0,0)\n",
        "    else:\n",
        "      self.action.set(an/s, bn/s, n/s, bp/s, ap/s)\n",
        "    \n",
        "    return self.action.deffuzify()\n",
        "    "
      ],
      "execution_count": null,
      "outputs": []
    },
    {
      "cell_type": "markdown",
      "metadata": {
        "id": "2CUgFRWqg0D6"
      },
      "source": [
        "# Rodando o ambiente"
      ]
    },
    {
      "cell_type": "code",
      "metadata": {
        "id": "9D3VI0Fvd_sL",
        "colab": {
          "base_uri": "https://localhost:8080/",
          "height": 439
        },
        "outputId": "c9d1f3e4-57cb-457a-e550-1afe4e91620f"
      },
      "source": [
        "# Cria o ambiente\n",
        "env = wrap_env(ContinuousCartPoleEnv())\n",
        "\n",
        "# Cria controlador Fuzzy\n",
        "fc = FuzzyController()\n",
        "\n",
        "# Laço principal\n",
        "done = False\n",
        "observation = env.reset()\n",
        "R = 0.0\n",
        "while not done:\n",
        "  env.render()\n",
        "  pos, vel, ang, velang = observation\n",
        "  action = np.array([-fc.compute(ang, velang)])\n",
        "  # action = env.action_space.sample()\n",
        "  observation, reward, done, info = env.step(action)\n",
        "  R += reward\n",
        "\n",
        "# Encerra e mostra vídeo do resultado\n",
        "env.close()\n",
        "show_video()\n",
        "print('Total reward:', R)"
      ],
      "execution_count": null,
      "outputs": [
        {
          "output_type": "display_data",
          "data": {
            "text/html": [
              "<video alt=\"test\" autoplay \n",
              "                loop controls style=\"height: 400px;\">\n",
              "                <source src=\"data:video/mp4;base64,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\" type=\"video/mp4\" />\n",
              "             </video>"
            ],
            "text/plain": [
              "<IPython.core.display.HTML object>"
            ]
          },
          "metadata": {}
        },
        {
          "output_type": "stream",
          "name": "stdout",
          "text": [
            "Total reward: 1042.0\n"
          ]
        }
      ]
    }
  ]
}