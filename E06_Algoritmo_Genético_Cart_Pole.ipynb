{
  "nbformat": 4,
  "nbformat_minor": 0,
  "metadata": {
    "colab": {
      "name": "E06 Algoritmo Genético Cart-Pole.ipynb",
      "provenance": [],
      "collapsed_sections": []
    },
    "kernelspec": {
      "name": "python3",
      "display_name": "Python 3"
    }
  },
  "cells": [
    {
      "cell_type": "code",
      "metadata": {
        "id": "FUbWip5jBmAM"
      },
      "source": [
        "#@title\n",
        "%%capture\n",
        "!pip install gym pyvirtualdisplay\n",
        "!apt-get install -y xvfb python-opengl ffmpeg\n",
        "!apt-get install build-essential python-dev swig python-pygame\n",
        "!apt-get update\n",
        "!apt-get install cmake\n",
        "!pip install --upgrade setuptools\n",
        "!pip install ez_setup\n",
        "!pip install gym\n",
        "!pip install box2d-py\n",
        "\n",
        "import gym\n",
        "from gym.wrappers import Monitor\n",
        "import glob\n",
        "import io\n",
        "import base64\n",
        "from IPython.display import HTML, clear_output, YouTubeVideo\n",
        "from pyvirtualdisplay import Display\n",
        "from IPython import display as ipythondisplay\n",
        "\n",
        "display = Display(visible=0, size=(1400, 900))\n",
        "display.start()\n",
        "\n",
        "\"\"\"\n",
        "Utility functions to enable video recording of gym environment \n",
        "and displaying it.\n",
        "To enable video, just do \"env = wrap_env(env)\"\"\n",
        "\"\"\"\n",
        "\n",
        "def show_video():\n",
        "  mp4list = glob.glob('video/*.mp4')\n",
        "  if len(mp4list) > 0:\n",
        "    mp4 = mp4list[0]\n",
        "    video = io.open(mp4, 'r+b').read()\n",
        "    encoded = base64.b64encode(video)\n",
        "    ipythondisplay.display(HTML(data='''<video alt=\"test\" autoplay \n",
        "                loop controls style=\"height: 400px;\">\n",
        "                <source src=\"data:video/mp4;base64,{0}\" type=\"video/mp4\" />\n",
        "             </video>'''.format(encoded.decode('ascii'))))\n",
        "  else: \n",
        "    print(\"Could not find video\")\n",
        "    \n",
        "\n",
        "def wrap_env(env):\n",
        "  env = Monitor(env, './video', force=True)\n",
        "  return env"
      ],
      "execution_count": 8,
      "outputs": []
    },
    {
      "cell_type": "markdown",
      "metadata": {
        "id": "C4XavvvHBO9e"
      },
      "source": [
        "# E06 Algoritmo Genético Cart-Pole\n",
        "\n",
        "Neste exercício você vai usar o que aprendeu sobre algoritmos genéticos e neuro-evolução para implementar um algoritmo genético capaz de evoluir os parâmetros de uma rede neural que deverá controlar um sistema de pêndulo invertido.\n",
        "\n",
        "Em inglês conhecido como _cart-pole_, o pêndulo invertido é um problema clássico muito usado para fins didáticos, principalmente em disciplinas ligadas à modelagem e controle de sistemas dinâmicos em engenharia.\n",
        "\n",
        "Para entender melhor o problema, veja o vídeo abaixo, onde um aluno de graduação apresenta seu projeto de TCC:"
      ]
    },
    {
      "cell_type": "code",
      "metadata": {
        "id": "5lqvckCw8HIK"
      },
      "source": [
        "#YouTubeVideo('Pf79Z32B5Kk')"
      ],
      "execution_count": 9,
      "outputs": []
    },
    {
      "cell_type": "markdown",
      "metadata": {
        "id": "09stoaYjFCXr"
      },
      "source": [
        "## Introdução\n",
        "\n",
        "Neste trabalho, você tomará como ponto de partida o [código disponível neste link aqui](https://colab.research.google.com/drive/1X68CYfPYcKN7qvPfOlkgGURP6E0PLE5X?usp=sharing). De forma muito semelhante ao código do link acima, aqui também utilizaremos um ambiente do OpenAI Gym - só que desta vez, ao invés de tentarmos aterrizar foquetes, tentaremos equilibrar o pêndulo.\n",
        "\n",
        "Veja o exemplo de código abaixo:"
      ]
    },
    {
      "cell_type": "code",
      "metadata": {
        "colab": {
          "base_uri": "https://localhost:8080/",
          "height": 439
        },
        "id": "jenqKbWhHAIx",
        "outputId": "bf40027b-bcdf-4cb6-edbc-57abd46de854"
      },
      "source": [
        "# Aqui importamos o NumPy para\n",
        "# gerar as ações aleatórias\n",
        "# que precisaremos mais abaixo\n",
        "\n",
        "import numpy as np\n",
        "\n",
        "# Esta linha de código cria o ambiente\n",
        "# usando o OpenAI Gym. Note que o comando\n",
        "# está usando a função wrap_env() que serve\n",
        "# para capturar as imagens e gerar um vídeo\n",
        "# que permita observar a saída gráfica\n",
        "# aqui no Google Colab.\n",
        "env = wrap_env(gym.make('CartPole-v0'))\n",
        "\n",
        "# Essa variável usaremos para somar o\n",
        "# reforço.\n",
        "R = 0.0\n",
        "\n",
        "# Aqui resetamos o ambiente\n",
        "obs = env.reset()\n",
        "\n",
        "# Laço principal\n",
        "while True:\n",
        "\n",
        "  # Escolhemos uma ação aleatória. São\n",
        "  # possíveis duas ações: ação 0 ou ação 1\n",
        "  action = np.random.randint(0,2)\n",
        "\n",
        "  # Rodamos um passo da simulação, enviando\n",
        "  # a ação escolhida e recebendo como retorno\n",
        "  # uma tupla de quatro elementos. O primeiro\n",
        "  # elemento é o vetor de observações, que tem\n",
        "  # tamanho 4. A variável reward é o reforço\n",
        "  # instantâneo referente a este passo (número\n",
        "  # escalar). A variável done é True quando o\n",
        "  # episódio encerrou. Por fim, info retorna\n",
        "  # algumas informações sobre a simulação.\n",
        "  obs, reward, done, info = env.step(action)\n",
        "\n",
        "  # Essa linha de código renderiza os gráficos\n",
        "  # gerando mais um quadro para o vídeo que\n",
        "  # será gerado ao final\n",
        "  env.render()\n",
        "\n",
        "  # Aqui somamos os reforços de cada quadro.\n",
        "  R += reward\n",
        "\n",
        "  # Se done for True (verdadeiro) então\n",
        "  # encerramos esse laço de simulação.\n",
        "  if done:\n",
        "    break\n",
        "\n",
        "# Aqui imprimimos o reforço acumulado\n",
        "print(R)\n",
        "\n",
        "# Encerramos o ambiente\n",
        "env.close()\n",
        "\n",
        "# Mostramos o vídeo gerado\n",
        "show_video()"
      ],
      "execution_count": 10,
      "outputs": [
        {
          "output_type": "stream",
          "name": "stdout",
          "text": [
            "28.0\n"
          ]
        },
        {
          "output_type": "display_data",
          "data": {
            "text/html": [
              "<video alt=\"test\" autoplay \n",
              "                loop controls style=\"height: 400px;\">\n",
              "                <source src=\"data:video/mp4;base64,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\" type=\"video/mp4\" />\n",
              "             </video>"
            ],
            "text/plain": [
              "<IPython.core.display.HTML object>"
            ]
          },
          "metadata": {}
        }
      ]
    },
    {
      "cell_type": "markdown",
      "metadata": {
        "id": "V8SOKcivJQON"
      },
      "source": [
        "## Instruções\n",
        "\n",
        "Note que em termos dos formatos das entradas e saídas, este problema é muito semelhante ao do foguete. As diferenças principais se referem aos números: este problema conta com quatro variáveis observadas (entradas da rede neural) e com duas opções de ações (saídas da rede neural).\n",
        "\n",
        "Para resolver este problema, traga para cá o código de neuro-evolução que pousava o foguete, alterando-o conforme necessário para que desta vez faça o equilíbrio do pêndulo.\n",
        "\n",
        "A rede neural deverá possuir 4 entradas, 10 neurônios na camada escondida e 2 neurônios de saída. As entradas devem ser exatamente o vetor de observações da simulação (tamanho 4) e na saída, a maior deve ser considerada a ação escolhida.\n",
        "\n",
        "Ao final de seu código, para passar no teste, você deve garantir que a rede neural esteja gravada na variável global de nome **n**."
      ]
    },
    {
      "cell_type": "code",
      "source": [
        "import numpy as np\n",
        "import gym\n",
        "from matplotlib import pyplot as plt"
      ],
      "metadata": {
        "id": "Szkoty4cJ6tS"
      },
      "execution_count": 23,
      "outputs": []
    },
    {
      "cell_type": "code",
      "metadata": {
        "id": "KRpNZweHK_FR"
      },
      "source": [
        "class Net():\n",
        "  def __init__(self, chromosome):\n",
        "    # 8 => 10 => 4 ->>>>> 4 => 10 => 2 (4 entrada, 10 de camada escondida e 2 de saída)\n",
        "    self.w1 = chromosome[:40].reshape((10,4))\n",
        "    self.b1 = chromosome[40:50].reshape((10,))\n",
        "    self.w2 = chromosome[50:70].reshape((2,10))\n",
        "    self.b2 = chromosome[70:].reshape((2,))\n",
        "  def forward(self, x):\n",
        "    s1 = np.dot(self.w1, x) + self.b1\n",
        "    z1 = s1 * (s1 > 0.0)\n",
        "    s2 = np.dot(self.w2, z1) + self.b2\n",
        "    z2 = s2 * (s2 > 0.0)\n",
        "    return z2.argmax()"
      ],
      "execution_count": 11,
      "outputs": []
    },
    {
      "cell_type": "code",
      "source": [
        "def create_individual():\n",
        "  ''' Esta função cria o genótipo de um indivíduo\n",
        "      completamente aleatório\n",
        "  '''\n",
        "  N = 4*10+10+10*2+2 #72\n",
        "  chromosome = np.random.normal(0, 10, size=(N,))\n",
        "  return chromosome, None"
      ],
      "metadata": {
        "id": "dTz9o8KDDtTf"
      },
      "execution_count": 12,
      "outputs": []
    },
    {
      "cell_type": "code",
      "source": [
        "def create_population(size):\n",
        "  ''' Aqui geramos uma população inteira\n",
        "  '''\n",
        "  # Nossa população será uma lista\n",
        "  population = list()\n",
        "  # Nesse laço criamos cada indivíduo\n",
        "  # e adicionamos à população\n",
        "  for _ in range(size):\n",
        "    population.append(create_individual())\n",
        "  return population"
      ],
      "metadata": {
        "id": "5tpO9vhqEsIZ"
      },
      "execution_count": 13,
      "outputs": []
    },
    {
      "cell_type": "code",
      "source": [
        "def get_phenotype(chromosome):\n",
        "  ''' Esta função gera a imagem a partir do\n",
        "      gene.\n",
        "  '''\n",
        "  n = Net(chromosome)\n",
        "  return n"
      ],
      "metadata": {
        "id": "UMzhuZJMEtUi"
      },
      "execution_count": 14,
      "outputs": []
    },
    {
      "cell_type": "code",
      "source": [
        "def fitness(n):\n",
        "  R = 0.0\n",
        "  trials = 6\n",
        "  env = gym.make('CartPole-v0')\n",
        "  for _ in range(trials):\n",
        "    obs = env.reset()\n",
        "    while True:\n",
        "      action = n.forward(obs)\n",
        "      obs, reward, done, info = env.step(action)\n",
        "      R += reward\n",
        "      if done:\n",
        "        break\n",
        "  env.close()\n",
        "  return (10000.0 + R/trials) / 10000.0"
      ],
      "metadata": {
        "id": "V0zBNj2VE5WI"
      },
      "execution_count": 15,
      "outputs": []
    },
    {
      "cell_type": "code",
      "source": [
        "def crossover2point(chr1, chr2):\n",
        "  ''' Esta função combina os genes de\n",
        "      dois indivíduos, gerando um novo\n",
        "      cromossomo\n",
        "  '''\n",
        "  N = len(chr1)\n",
        "  idx1 = np.random.randint(0,N)\n",
        "  idx2 = np.random.randint(0,N)\n",
        "  if idx1 > idx2:\n",
        "    idx1, idx2 = idx2, idx1\n",
        "  new_chr1 = np.concatenate((chr1[0:idx1], chr2[idx1:idx2], chr1[idx2:]))\n",
        "  new_chr2 = np.concatenate((chr2[0:idx1], chr1[idx1:idx2], chr2[idx2:]))\n",
        "  return new_chr1, new_chr2"
      ],
      "metadata": {
        "id": "cgSz6TFZFFwx"
      },
      "execution_count": 16,
      "outputs": []
    },
    {
      "cell_type": "code",
      "source": [
        "def mutation(chr, p):\n",
        "  ''' Esta função aplica a mutação em um dos\n",
        "      genes de nosso cromossomo\n",
        "  '''\n",
        "  N = len(chr)\n",
        "  total = int(np.random.normal(p*N, p*N))\n",
        "  if total < 0:\n",
        "    total = 0\n",
        "  elif total > N:\n",
        "    total = N\n",
        "  for _ in range(total):\n",
        "    idx = np.random.randint(0, N)\n",
        "    if np.random.rand() > 0.5:\n",
        "      chr[idx] += np.random.normal(0, 1)\n",
        "    else:\n",
        "      chr[idx] = np.random.normal(0, 10)\n",
        "  return chr"
      ],
      "metadata": {
        "id": "HW3laoYpFPgg"
      },
      "execution_count": 17,
      "outputs": []
    },
    {
      "cell_type": "code",
      "source": [
        "def compute_fitness(population):\n",
        "  ''' Esta função avalia cada indivíduo\n",
        "      e adiciona o seu score.\n",
        "  '''\n",
        "  scored = list()\n",
        "  for chromosome, score in population:\n",
        "    n = get_phenotype(chromosome)\n",
        "    score = fitness(n)\n",
        "    scored.append((chromosome, score))\n",
        "  scored.sort(key=lambda x:x[1], reverse=True)\n",
        "  return scored"
      ],
      "metadata": {
        "id": "ToBFZSVDFSoN"
      },
      "execution_count": 18,
      "outputs": []
    },
    {
      "cell_type": "code",
      "source": [
        "def roulette(population):\n",
        "  fitnesses = np.array([np.exp(fitness) \\\n",
        "                       for _, fitness in population])\n",
        "  total = np.sum(fitnesses)\n",
        "  fitnesses /= total\n",
        "  choice = np.random.rand()\n",
        "  subtotal = 0\n",
        "  idx = 0\n",
        "  for f in fitnesses:\n",
        "    subtotal += f\n",
        "    if subtotal >= choice or idx == len(fitnesses)-1:\n",
        "      break\n",
        "    idx += 1\n",
        "  return idx"
      ],
      "metadata": {
        "id": "wuhhq8ebFT8y"
      },
      "execution_count": 19,
      "outputs": []
    },
    {
      "cell_type": "code",
      "source": [
        "def new_generation(population, size, mutation_rate):\n",
        "  new_population = list()\n",
        "  while len(new_population) < size:\n",
        "    idx1 = roulette(population)\n",
        "    idx2 = roulette(population)\n",
        "    if idx1 == idx2:\n",
        "      continue\n",
        "    chr1, _ = population[idx1]\n",
        "    chr2, _ = population[idx2]\n",
        "    new_chr1, new_chr2 = crossover2point(chr1, chr2)\n",
        "    new_chr1 = mutation(new_chr1, mutation_rate)\n",
        "    new_chr2 = mutation(new_chr2, mutation_rate)\n",
        "    new_population.append((new_chr1, None))\n",
        "    new_population.append((new_chr2, None))\n",
        "  return new_population[:size]"
      ],
      "metadata": {
        "id": "hbscKNP2FXuI"
      },
      "execution_count": 20,
      "outputs": []
    },
    {
      "cell_type": "code",
      "source": [
        "def genalg(pop_size, elite_size, \\\n",
        "           epochs, mutation_rate):\n",
        "  x = list()\n",
        "  y = list()\n",
        "\n",
        "  population = create_population(pop_size)\n",
        "\n",
        "  for generation in range(epochs+1):\n",
        "\n",
        "    population = compute_fitness(population)\n",
        "\n",
        "    chr, fit = population[0]\n",
        "    _, worst = population[-1]\n",
        "    n = get_phenotype(chr)\n",
        "    y.append(fit)\n",
        "    x.append(generation)\n",
        "\n",
        "    R = 0.0\n",
        "    env2 = wrap_env(gym.make('CartPole-v0'))\n",
        "    obs = env2.reset()\n",
        "    while True:\n",
        "      action = n.forward(obs)\n",
        "      obs, reward, done, info = env2.step(action)\n",
        "      env2.render()\n",
        "      R += reward\n",
        "      if done:\n",
        "        break\n",
        "    env2.close()\n",
        "\n",
        "    clear_output()\n",
        "    print('Geração', generation, ', melhor:', fit, ', pior', worst)\n",
        "    show_video()\n",
        "      \n",
        "    plt.plot(x, y)\n",
        "    plt.show()\n",
        "\n",
        "    elite = population[:elite_size]\n",
        "    population = new_generation(population, pop_size - elite_size,\\\n",
        "                                mutation_rate) + elite\n",
        "  return n, x, y"
      ],
      "metadata": {
        "id": "_0hvlp9ZFYfE"
      },
      "execution_count": 21,
      "outputs": []
    },
    {
      "cell_type": "code",
      "source": [
        "n, x, y = genalg(50, 3, 50, 0.03)"
      ],
      "metadata": {
        "colab": {
          "base_uri": "https://localhost:8080/",
          "height": 687
        },
        "id": "YdWp0CyzFboq",
        "outputId": "b7874583-179a-4754-9478-d50d97668922"
      },
      "execution_count": 24,
      "outputs": [
        {
          "output_type": "stream",
          "name": "stdout",
          "text": [
            "Geração 50 , melhor: 1.02 , pior 1.0009\n"
          ]
        },
        {
          "output_type": "display_data",
          "data": {
            "text/html": [
              "<video alt=\"test\" autoplay \n",
              "                loop controls style=\"height: 400px;\">\n",
              "                <source src=\"data:video/mp4;base64,AAAAIGZ0eXBpc29tAAACAGlzb21pc28yYXZjMW1wNDEAAAAIZnJlZQAAJLltZGF0AAACrgYF//+q3EXpvebZSLeWLNgg2SPu73gyNjQgLSBjb3JlIDE1MiByMjg1NCBlOWE1OTAzIC0gSC4yNjQvTVBFRy00IEFWQyBjb2RlYyAtIENvcHlsZWZ0IDIwMDMtMjAxNyAtIGh0dHA6Ly93d3cudmlkZW9sYW4ub3JnL3gyNjQuaHRtbCAtIG9wdGlvbnM6IGNhYmFjPTEgcmVmPTMgZGVibG9jaz0xOjA6MCBhbmFseXNlPTB4MzoweDExMyBtZT1oZXggc3VibWU9NyBwc3k9MSBwc3lfcmQ9MS4wMDowLjAwIG1peGVkX3JlZj0xIG1lX3JhbmdlPTE2IGNocm9tYV9tZT0xIHRyZWxsaXM9MSA4eDhkY3Q9MSBjcW09MCBkZWFkem9uZT0yMSwxMSBmYXN0X3Bza2lwPTEgY2hyb21hX3FwX29mZnNldD0tMiB0aHJlYWRzPTMgbG9va2FoZWFkX3RocmVhZHM9MSBzbGljZWRfdGhyZWFkcz0wIG5yPTAgZGVjaW1hdGU9MSBpbnRlcmxhY2VkPTAgYmx1cmF5X2NvbXBhdD0wIGNvbnN0cmFpbmVkX2ludHJhPTAgYmZyYW1lcz0zIGJfcHlyYW1pZD0yIGJfYWRhcHQ9MSBiX2JpYXM9MCBkaXJlY3Q9MSB3ZWlnaHRiPTEgb3Blbl9nb3A9MCB3ZWlnaHRwPTIga2V5aW50PTI1MCBrZXlpbnRfbWluPTI1IHNjZW5lY3V0PTQwIGludHJhX3JlZnJlc2g9MCByY19sb29rYWhlYWQ9NDAgcmM9Y3JmIG1idHJlZT0xIGNyZj0yMy4wIHFjb21wPTAuNjAgcXBtaW49MCBxcG1heD02OSBxcHN0ZXA9NCBpcF9yYXRpbz0xLjQwIGFxPTE6MS4wMACAAAABpmWIhAAz//727L4FNf2f0JcRLMXaSnA+KqSAgHc0wAAAAwAAAwAAFgn0I7DkqgN3QAAAHGAFBCwCPCVC2EhIBqk+Zlf4HWMAJUDM+3/HzGJBRI4sDFyBwfyryFLS5ObAk202nex44sygNI1BDe2XmCZOqcjsnhLWxd0aDS4fY4Si9pyJ7is39w5OltFfMjDwaqzW0R8vUIOBVB08t4RpljTNz7oaAML92bgJXuzJIUtGm5OnnczZ2tMuYxLwAZRjaYPePyO7avLGPKk4uLjEm4B3X4il3uGSrks2vusEtPtwM7r8Q+oSA8PTz10/7hJZSLdkODAADpXNTKB30FK3HK+eQtSat44x4kem71y564YGhY93laC8I8WfS1X8BCiFG0W1/m+Fqni5u8w5PwS3PjFcKVTZfd3nQhkMjw2WihrJNMLFHldXu2c29Dr+ttuAVDglVj24OyOv76MLCYL/alZi1IOaZQAN2NOHfAkAzrM8OyZeo7xChGYmiaEv7ljr4LWDc/jhbg5g+06JjEvYB5Z1dNe/OYGHVCdGqlrAAAADAAADAAYFAAAAn0GaJGxDP/6eEAAAQ1PawAc+1VdhB8y4X+egt+aIQ/JT5YH5oaxitUWUXKJ3Z5zqyOJwqYGf/Y3ZuEqIeaFPFaP/7JsySuoivfwd37ZyoN/L8JaT3RfcO0C7pdF2RGeG4pmxMOH7mIWJFtV0xT18gvXtzw28+prb8gMP6sPiakybl1rbRbfnbeO+yOPFChBhYbL71NUzuzB36YxyKm6EQAAAADZBnkJ4hH8AABYlWpFmxOCPvADYOjDOFtkGX9oBm8uAAAAEzhLTtIRfl42Kg3RjMqIeplgAMqEAAAAqAZ5hdEf/AAAiw0AS7RF34J6eNX//cvEUJBQAAAMAABWwAADAD1MsABlQAAAAIgGeY2pH/wAAIsfHJ+4tNYS1aUyvhcvXrdAAAAMAKwgywqcAAACDQZpoSahBaJlMCF///oywAABGDmYp8fQAtJoY6J6HI09I2p9q/Aib2/qrf/6RwU9FWbRv2WgCUUWhiF7S2/NbbYf8IGzk0CgzmcTTd1ZZeWbzPQY7Xnnr5vsJGxYw0O68g2ZobnVK/hHf9KO2yXbnAAADAAADAADsfkjHmUpWKmWZ2OEAAAA2QZ6GRREsI/8AABa8Q82101ZjOLad4TWNdyDABzgoAbXL8pIA6EKa1FS4vkAAAAMBEArssB/hAAAANQGepXRH/wAAAwC5kTqmRqSAC3gCP6bj8V5U243FWu4OWLjkfm+qytg5QAAAAwB+9cIMsKmBAAAANAGep2pH/wAAI78azq1yt8AEtU6ln61xviC3DXYZwjuTBNt4xS5UAAADAAADAAw95llgVMAAAABoQZqsSahBbJlMCF///oywAABGAtYjAPnLvCE+oXOhnO1KEwJhDinYeyod7P+pzZ3X1TUNdMl/lVc8no2cXhys+jn+qAXqF9qjTEqAPzRkHcZFNJg4X7sgzaPLHfXj8Mnym/XuV4pVBUwAAAAqQZ7KRRUsI/8AABazR7w7zcLUTbUmnKnwFgEwgAAAAwAAAwBXQuk2EDghAAAALwGe6XRH/wAAI7CjFnJABuZfGKfGt03TSBPcHne515o2N6yAAPeMOAAACJSrwgrYAAAAHwGe62pH/wAAI78EJxLQyQdYOJ0MLcAAAAMCwU4QWUAAAABCQZruSahBbJlMFEwz//6eEAAAGloLzQBcbifo5ftOMKoCt1+4S7+IdmpnF1gTdRq3p8M16WNRvlNaoAAAIdRoyxvRAAAALgGfDWpH/wAAI9UhACw9C9BgkSnJrQdvYtQjoYUDd3eyfmJe5VAAAAMAplOEFlEAAABAQZsSSeEKUmUwIZ/+nhAAABpZBFUnhhuVZrTEt5wkRtxBYAfXVQ92HxfGVk9kZ7HkcAhfGYfhbvyySBiPkywpIQAAADZBnzBFNEwj/wAACG8h5uYdlLiQCktoWX4ggA2oLmYz6eMr9bPfVxVZTsAAAAMASl9ElvhAk4AAAAAlAZ9PdEf/AAANh8EIbfFhwc1JK9avWxvfM32AAAADARi3cssCpgAAACsBn1FqR/8AAA2ElS0NwQipp5qB3yQAIg6FQEThOlhTXtMNlYajGtuFRq+DAAAAVkGbVkmoQWiZTAhn//6eEAAAQ0ltYAIwN4CUJUYEMOhIO7WEefHdb3tUSooNBclPh7kq5pKL9l7QKYHJjGXXRcJScM+Q47cf7uehKMEVJJiWLyAKGLbAAAAALUGfdEURLCP/AAAWLFC0uqYfoAD+dSqwTCjJtE7badA/HjbsYb/lQcwu655JgAAAABQBn5N0R/8AAA161Arv3mvp3QA6YQAAAB4Bn5VqR/8AACK/HTUZDs9/ezRSm2v3ofEcEusJbMAAAABLQZuaSahBbJlMCGf//p4QAABFTlgSAOIhKe6U/f1KMlfb0qVy2J9N0Qg/IC4vZHqrbbwwoQRIXo94QgiEZzjOD3zoAUMhWWaWu9cRAAAALkGfuEUVLCP/AAAWvEcWhH9VAAE7dSqwSNXPNE7bYk0njdaRjMh0huPi7OWy2YEAAAAdAZ/XdEf/AAAjuK/esfKEh4Dnw0IPOGI/mOqnbMAAAAAcAZ/Zakf/AAAjvwQr1l60c9SpEawzeqVMdgpJgQAAAE9Bm95JqEFsmUwIZ//+nhAAAEVOYMjDI1iw/TKegBf7dqzDp1WLH85+91GfwwseFQ2Sir5xmkVhL9PU+8/G3rA5kEI4/6XxNBgJx4FE8brAAAAAHEGf/EUVLCP/AAAWtStDIrtfUHdoJWGQzl5NVikAAAASAZ4bdEf/AAAjwxd1UVDRJMKDAAAAIgGeHWpH/wAAIqTq+OVFfdNLIhfAQjgAe5taf3DLT+Zu24AAAAApQZoCSahBbJlMCGf//p4QAAADABPfT1KDvLuK60UhsZgejlp6AnPsaUAAAAAdQZ4gRRUsI/8AABa+oUO7QZFdepzLHsvwYlI8fqkAAAAZAZ5fdEf/AAAjwxd1U4fxxoGjcvtXbli24AAAABMBnkFqR/8AACO/BCvAcovUR2DBAAAAO0GaRkmoQWyZTAhn//6eEAAARVH2HwWAQeYCvDDJF/mnsfl1jn8nEk/+C8n6immGTXtSLsPMcOBZvbugAAAAK0GeZEUVLCP/AAAWtStDJvbYjuAAJmoBGLW7YsJ7hFRkBbtKcKP91b7RPbMAAAAYAZ6DdEf/AAAjwxd1WS/Tt85WcalMiXyTAAAAJwGehWpH/wAAAwBFqkIALnq7h7m2tB7rRdy9om/TqQ0lEuMVXBbbMQAAAD5BmopJqEFsmUwIZ//+nhAAAEVFIQQ48wP2AFAM4LOVFRP7bR45nR9rr9QbcvZ5Xr7QLA3m5WVJ5g00xhsl4QAAABdBnqhFFSwj/wAAFr6jngP65YJixMzsGAAAACYBnsd0R/8AACPDF3VTinq5GjUAEHgydFPbiXUROZvpuEO9ZgO2YAAAABIBnslqR/8AACO/BCcS0CQAjYEAAAAoQZrOSahBbJlMCGf//p4QAABDUT71n+YtAoGp6jQQWsYVIcaSKqqBdwAAADRBnuxFFSwj/wAAFr6jngFAXqC4lFa3xrIAJmoBGLmf9EG4aKWimwmEJJOA5PK3EcFBH23AAAAAKQGfC3RH/wAAI8MXZd7prdIAFqI2etjzxXM5GCLRp2UYD9m1KW1YqJJhAAAAKwGfDWpH/wAAI78EJxLJk3AAW4AaI3hR78wesGrPvbDrUdjwmEFGCWI8QEEAAAA3QZsSSahBbJlMCGf//p4QAABFUT6eCruFJyCU/Y4YWJbxYPPeN3KBwA0SE0iRU4a0rBm2Q0dHqwAAADJBnzBFFSwj/wAAFsCbWckAK+EKQgP/7f3Xbn+Ay1j3Km4fwuKGzs3OVTbObifVFimp8AAAADEBn090R/8AACPDF2ipxtVtjag6DtRxSZpAcAHvyWs4gicIVH5J6puNonVynK7a9VO3AAAAFgGfUWpH/wAAI78EJ16U63t0RU+vwsEAAAA6QZtWSahBbJlMCGf//p4QAABFTmDIwyNZxtjg5JnUQAFpIXRCVF4PPd7eHdmfJhWotSkAq7HJokkmzAAAAB5Bn3RFFSwj/wAAFrUrQyb9n5BUR2AoqZ7PrxMxOYIAAAAUAZ+TdEf/AAAjwxd1UVDRJq6VivUAAAAYAZ+Vakf/AAADABppKl61XzfrREtzePwYAAAAKkGbmkmoQWyZTAhn//6eEAAAAwAzhyC+dglCH5azb8Qy0ANzoXM+7YJX7wAAAB5Bn7hFFSwj/wAAFr6jV+KFMD8cwUjKJ4xRw0uVbMEAAAApAZ/XdEf/AAAjwxd1WSg91/Eb6AAbQAp/Vi4Cx4qs6BZyZVNkVZo4e2YAAAASAZ/Zakf/AAAivxvY+zHrSXPhAAAAKEGb3kmoQWyZTAhn//6eEAAARVH2BNAI3JhU8nBuZsyxVrDBwM1UrOAAAAArQZ/8RRUsI/8AABa1K0Miub9S5kWADhAUb+zdKzkDq65HaHbFmlAI1d4mzQAAABcBnht0R/8AACPDF3VTivJhp7wELvEtuQAAACYBnh1qR/8AAAMAGnfJgBbdXzqtgh+Vry25+DiHbjdGiQF1qYfZgAAAADRBmgJJqEFsmUwIZ//+nhAAAEVUvzuQCa+vBaq7Qv8f4ywnTlA6q6sA0TBkBf48diAhAl+QAAAAFUGeIEUVLCP/AAAWvqOeIIM3krMHrwAAABIBnl90R/8AACPDF3VRUNEkwoIAAAAQAZ5Bakf/AAAjvwQrwAAzIQAAAC1BmkZJqEFsmUwIZ//+nhAAAEVRPvUQ2DQAPhLGOKLLmlBNAEzujYdR4IIZH5AAAAAvQZ5kRRUsI/8AABa+o54D+uWGg1+X4gAOyCSbIgLgbeQRSgT7Pu7gWizhx/98p4MAAAAXAZ6DdEf/AAAjwxd1U4ryYae8BC7xLbkAAAArAZ6Fakf/AAAjvwQnEtA7kWk9AAkUQuEq5B+gbH+Yg20u/KpKEBvvk2fBgQAAAFVBmopJqEFsmUwIZ//+nhAAAEVRPrTH00CZgBVhy/QYPttw2rP6vOKNJ2t4rmeI/8WsyotU3Fq/i0hJVc31aggzq+T5S1omSW+ccpCXVoevWKHquDWLAAAAM0GeqEUVLCP/AAAWrfBXQAsB+jhozVzsmqL4ncpgic+xFnnJZeiDlsBVYHt9nQ/PFCakmAAAAC0Bnsd0R/8AACPDF2Xe579I0ACWPNv6RE2WT4tdX+ZsF350mKx87xTzLnuKYgIAAAAUAZ7Jakf/AAAjvwQnEskyv/yUAZUAAAAzQZrOSahBbJlMCGf//p4QAABFVQ1mq7czLITL1fYIMe81bcYB6aV5MEAQmSfJoUoMsOWYAAAAKEGe7EUVLCP/AAAWtStDMp5vFyknQ5vnMAF0PKe/hq93jHR45JZx7ZgAAAAYAZ8LdEf/AAAjwvZvYsYiowgI+pU+hzbNAAAAHQGfDWpH/wAAIrhd9U/Tlj3f8YShdR850n1ypntvAAAAMEGbEkmoQWyZTAhn//6eEAAAAwCGo+vq4XvVeK3lbdCLwNFIKmCUYcNCcx65XJyxsQAAAB9BnzBFFSwj/wAAFr6jV+KHKaVrbmUyZiPvDu8KV2zAAAAAJwGfT3RH/wAAI8MXdWh0bzOjRIAFznm/TdIB1Sdlk30+8simS08QEAAAABMBn1FqR/8AACO/BCvAcovUR2DBAAAAHkGbVkmoQWyZTAhn//6eEAAARVH19Yk4NzNq0lKzgAAAACpBn3RFFSwj/wAAFrxDz4R06EHPRYAOEBrAhYcOxS0ahkDgv0yMKqpdLBgAAAAWAZ+TdEf/AAADAAo/l8TN4maZiGFYoQAAABgBn5VqR/8AACO/BCvBOTJ3A3ibq8D3b4MAAAAxQZuaSahBbJlMCGf//p4QAAADADOiYN+3U/2wAFwLQ+U3uLm8Z85GBjzxnX8xS0M82QAAAB5Bn7hFFSwj/wAAFsCbP8tCMuTkgb29nLMQJvrr9mEAAAASAZ/XdEf/AAAjwxd1UVDRJMKCAAAAGQGf2WpH/wAAI78EK8Ms0oJ2ngrYD2LzeScAAAAqQZveSahBbJlMCGf//p4QAABFUfX1iTmHm1aYxlsRwGOF9AFx3i/9DU2YAAAAHUGf/EUVLCP/AAAWvEPPhTA9G0zLbkiJPtxTV9mBAAAAKgGeG3RH/wAAAwBFRDa1kALZPrag7ww6HRC5xbs/YzyfxJkDdrmjdMNswQAAABkBnh1qR/8AACO/BCvBOkQbeWBanP2mNj2zAAAANkGaAkmoQWyZTAhn//6eEAAARVH19YlUYbxslLpwwrGQCauo/2QoMeDFutWe28+JHXdNwpuYgAAAAC5BniBFFSwj/wAAFruKlGSNYyqNNACxga38D81bLh/Ph1IJm36ViHqkBmD/enWzAAAAEwGeX3RH/wAAI8MXaKmlVN8AR8AAAAAgAZ5Bakf/AAAjvwQnEsjTzCOYjbrYtEL6l+Zi2L9C6ckAAAA3QZpGSahBbJlMCGf//p4QAABFSJcgCJgeC0pUSVWfyIn27wwrqrsnpnbUyTHDjqH3a9mfjbFDQgAAACNBnmRFFSwj/wAAFsCbP2H9kN8rSeFLrvY4VGH4RBJI1ZF23QAAACkBnoN0R/8AACPDF2ipra/QAJB3wA5xl/3Dp8WO/gJTSXaHMuRwKM6KowAAAB0BnoVqR/8AACO/BCcS0DuEhX08v2672k/VAeFeDQAAAC1BmopJqEFsmUwIZ//+nhAAAEVSPcgCJj7br2CJS5k2Nr5AE1GjJR2cAZaA/U0AAAAcQZ6oRRUsI/8AABa+daPoevUAoOzBFJhWNvCggAAAABEBnsd0R/8AACPDF2MyzpACNgAAABMBnslqR/8AACO/BCvAcovUR2DBAAAAHkGazkmoQWyZTAhn//6eEAAARVH19Yk4NzNq0lKzgAAAABRBnuxFFSwj/wAAFrUrQyD60/eBHwAAABIBnwt0R/8AACPDF3VRUNEkwoMAAAAOAZ8Nakf/AAADAAADAakAAAAoQZsSSahBbJlMCGf//p4QAABFVTDkAVv14Xpp3C7xoDWD9uErx9rZgQAAABVBnzBFFSwj/wAAFr6ircIVv74QI+AAAAASAZ9PdEf/AAAjwxd1UVDRJMKCAAAADgGfUWpH/wAAI7IwoAFlAAAAF0GbVkmoQWyZTAhn//6eEAAAAwAAAwM+AAAAFkGfdEUVLCP/AAAWvqOeIIM5X8VcufAAAAASAZ+TdEf/AAAjwxd1UVDRJMKDAAAAEwGflWpH/wAAI78EK8Byi9RHYMAAAABCQZuaSahBbJlMCGf//p4QAABFUfX1iVRWT0ACkuW3YqQp9RMzgtAVlTWFW1uUPhCvfgIn4mYOKYBPH4Z/aIc3hGzBAAAANkGfuEUVLCP/AAAWtStDMl0+FKOAAXQEpb43AOg1RgDWPf0IRuWFXQ+052tiArwPYpcfd/YW3QAAABoBn9d0R/8AACPDF3VoigoDYwva3J1g69CAgAAAAB8Bn9lqR/8AAAMAunUj6sjVXlBRt9PFL5BNXfWbr9YpAAAASUGb3kmoQWyZTAhn//6eEAAARXM0TnABGJYF5iI1wMfGC0VVS4vth3g1OF/MQKCIHTRlo6TUcJ7xtw7gikxsdCtfb1aeRaiFlDAAAAAmQZ/8RRUsI/8AABa+dZ+WwUAATqfkYHb9y63jh9zntvKLnkVUGoMAAAAwAZ4bdEf/AAAjwxdoqcYT0KikAC0Z23nd2HjCpxcO4G0EC86vcN/Iu78jY5XDztmBAAAAFwGeHWpH/wAAI78aD4WhWU/82Nm34BgQAAAAV0GaAkmoQWyZTAhn//6eEAAARVIGfYfQCoiUXEREx3y5JQWuoyCxIqVjMvHVP/44dAkQgyU6F4/b1IG9g253kmhj2kPCHksGb2r28iKEhHrbGk1ZQKq58AAAAC1BniBFFSwj/wAAFr51o+kIl2cYH+IAKiyhaUkAAJ2M4zflRqwj4zsJ0UdteDEAAAAgAZ5fdEf/AAAjwxd1/RS1nPS0Nql1soOgbcWaSH2E/swAAAAYAZ5Bakf/AAAjvwQrwTnQdXGdJeoqsDtxAAAAN0GaRkmoQWyZTAhn//6eEAAARYFNy4+oNYsMY19Th3ugCJW69QGP6mtcOGtUj/nN6K2wecML32oAAAAZQZ5kRRUsI/8AABa1K0MiuhtoSFNwM35bMQAAABoBnoN0R/8AACPDF3VTh/HGgaIS6MtsJ/MbZwAAAA4BnoVqR/8AAAMAAAMBqQAAAElBmopJqEFsmUwIZ//+nhAAAEVzT7EAVMYtjDuFFl+xyyYPO0cpPSyVlmE5RruDbZWc1BUWpUC4jJfoOygDk2xifyiLaeAgoyrFAAAAHUGeqEUVLCP/AAAWtStDIrtfUHdnqTLuZUv7vp+qAAAAEgGex3RH/wAAI8MXdVFQ0STCggAAABYBnslqR/8AAAMACj5hIJrXKtALEf+LAAAAMkGazkmoQWyZTAhn//6eEAAACbe/jZRc5/FjTBoAhv2tGXN5v+SMYpGvv/G+h+SW8uiwAAAAG0Ge7EUVLCP/AAAWvqOeIIip56fjdgFuFqfrFAAAABkBnwt0R/8AACPDF3VTh/HGgaNy+1duWLbhAAAAFAGfDWpH/wAAI55KS5rgOU4GTZ45AAAAJ0GbEkmoQWyZTAhn//6eEAAARVIyCAKmMTB0nfrx9rFVN+Qu1GCXEQAAACxBnzBFFSwj/wAAFrUrQycC6QABO3UrG6ZzxppAOfhoy6qER9unNzrOHSPBgAAAABgBn090R/8AACPDF3VZL9O3zlZxqUyJfJMAAAAaAZ9Rakf/AAADABpdCVkstk89tyfUMojLX5cAAAA7QZtWSahBbJlMCGf//p4QAABFgY/NMm0BUnW4kwANG8mVYAoRWC0ksopc4UMSVYBEu5HOFgb6lgkP1MAAAAAXQZ90RRUsI/8AABazSBm3XrXqTDnpXYMAAAAxAZ+TdEf/AAAjwxd1U4p7hh24P8S2nCACdu1At44UOEszTBS43f5Ga/VQAGe6f3vBgQAAABIBn5VqR/8AACOSu6koowdABZQAAAAuQZuaSahBbJlMCGf//p4QAABFaPF1JNofxuAu94AJfG+GYVR0RJBUqaHnxygBDwAAACdBn7hFFSwj/wAAFr6jngFAX5oZYT1KHXziUqSXQP//yp1psegV4MEAAAAcAZ/XdEf/AAAjuLg9DjmE04Sif1DB4zEteuDEBAAAACkBn9lqR/8AACO/BCcSyWmzanOeMDQADXrfyV+uG7BRvDwTOPCPWoPgwQAAADRBm95JqEFsmUwIZ//+nhAAAEVRPp4KvDh6ieavUR8sAogU1nwKYmNHT6CtACwPRBPA2ayzAAAAL0Gf/EUVLCP/AAAWvqSrSbHopQzNgAPw8Cj9hI5QufbEtu3JNWMurV/QG4+coyknAAAAHQGeG3RH/wAAI8NCV7pFdeR2ihmAERtb+Zf9PQGfAAAAKgGeHWpH/wAAI78EK/qJ+QyQwAC4YOkbtCGKzbuYpM2gtcGEQdkiGoBICAAAABdBmgJJqEFsmUwIZ//+nhAAAAMAAAMDPgAAABdBniBFFSwj/wAAFr6kL+WExK/lWYHPgQAAABIBnl90R/8AACPDF3VRUNEkwoIAAAATAZ5Bakf/AAAjvwQrwHKL1EdgwQAAAB5BmkZJqEFsmUwIZ//+nhAAAEVR9fWJODczatJSs4AAAAAVQZ5kRRUsI/8AABa8Q8+EK5ObxBHxAAAADgGeg3RH/wAAAwAAAwGpAAAAEwGehWpH/wAAI78EK8Byi9RHYMEAAAAeQZqKSahBbJlMCGf//p4QAABFUfX1iTg3M2rSUrOBAAAAFUGeqEUVLCP/AAAWvEPPhCuTm8QR8AAAAB8Bnsd0R/8AACPVIQAca99wlxOLgOWxg/8PNR5PU52DAAAAEwGeyWpH/wAAI78EK8Byi9RHYMEAAAAeQZrOSahBbJlMCGf//p4QAABFUfX1iTg3M2rSUrOAAAAAFEGe7EUVLCP/AAAWtStDIPrT94EfAAAAEgGfC3RH/wAAI8MXdVFQ0STCgwAAABMBnw1qR/8AACPHvYwaHKqkX4UFAAAAMUGbEkmoQWyZTAhn//6eEAAARUiXIArecW7EhPwUaA1g/X3f5a3//8c6dAoNynbCX5EAAAAjQZ8wRRUsI/8AABa+oq3CFau8FCwYAIg6kmLD1dvVK/UQI+AAAAASAZ9PdEf/AAAjwxd1UVDRJMKCAAAAMAGfUWpH/wAAI78b3tbroAF1AEfe22qn6zeLqCv4GGHWCrS3mc6jMSwnHQITWp0bZwAAAFxBm1ZJqEFsmUwIZ//+nhAAAEV60iTWfPY+n6wAFzwSaXNgm1ob8kr9kg//+9jiJQgYX6/RIQkg1KSzY8qmxD/sF/Y7G6OrJt3/BHCNzrYpPTNM8xwREGZq2pEAOAAAACJBn3RFFSwj/wAAFr6jniC7aBNlj1Km2sBFJo74K18paXcqAAAAFQGfk3RH/wAAI5o1r7OuA5NQQuSzxwAAABoBn5VqR/8AACO/BCvIToP5H8i2uwFMkez1swAAAElBm5pJqEFsmUwIX//+jLAAAEYQ9DqODzzegBW+Muu/AgT1YeE0+jH8Y38C0YICzwgAApT7OKbH6o5JWGDJ+QNCBUwj0PSeiindAAAAI0GfuEUVLCP/AAAWqnXEZqdZ4ia7+GRdSJ1kqsOtj2y5OfBhAAAALgGf13RH/wAAI8NAEEGCuvAAXUAR97bsXiYpP0hloYEkSrydrusAEkq/JVQ1JMAAAAAiAZ/Zakf/AAAjvwQnEslpsgE9ALwFtmTzlimJ2yAVVbltwQAAAEdBm95JqEFsmUwIX//+jLAAAEY0qjXvdfsPLfzrfL7rB3kao+1cdF1X26ck5NurTjNoCq6COYppVg3QliZv3+4KTWtE5QjyQAAAADdBn/xFFSwj/wAAFqp1xkGBXNRDt0AEtVLtBiJLts57EVFjJItUAajd4uzpWS+talKn+7IwGjkhAAAAHwGeG3RH/wAABRqtogdTZALKCxyogTjxF+a5nHnuAz8AAAAiAZ4dakf/AAAjvx0jH6AdkMcgGN6pQR+LApXIjiXdD/G24AAAABdBmgJJqEFsmUwIX//+jLAAAAMAAAMDQgAAADBBniBFFSwj/wAAFr6muNrXkgAnboGzYej0PJvueY2gxGpkMkQIUo81x8vuXxM524EAAAAYAZ5fdEf/AAAjwz+9pdfTLLCAKuzec1twAAAAGgGeQWpH/wAAI78b3s8XzBoINfLN18gY3/ZhAAAAHUGaRkmoQWyZTAhP//3xAAADAqFxWY+MG9yLPOt6AAAAE0GeZEUVLCP/AAAWvE7geuAmoOEAAAAOAZ6DdEf/AAADAAADAakAAAARAZ6Fakf/AAAjvxvY9bL8QcEAAAAvQZqISahBbJlMFEx//IQAAAMABJMFb61+AAmTPyzWeUEKr3F7SKBYebHyRJFPbMMAAAAYAZ6nakf/AAADABnJP3YCuDbYgzETR/LgAAAMf21vb3YAAABsbXZoZAAAAAAAAAAAAAAAAAAAA+gAAA+0AAEAAAEAAAAAAAAAAAAAAAABAAAAAAAAAAAAAAAAAAAAAQAAAAAAAAAAAAAAAAAAQAAAAAAAAAAAAAAAAAAAAAAAAAAAAAAAAAAAAAAAAAIAAAupdHJhawAAAFx0a2hkAAAAAwAAAAAAAAAAAAAAAQAAAAAAAA+0AAAAAAAAAAAAAAAAAAAAAAABAAAAAAAAAAAAAAAAAAAAAQAAAAAAAAAAAAAAAAAAQAAAAAJYAAABkAAAAAAAJGVkdHMAAAAcZWxzdAAAAAAAAAABAAAPtAAAAgAAAQAAAAALIW1kaWEAAAAgbWRoZAAAAAAAAAAAAAAAAAAAMgAAAMkAVcQAAAAAAC1oZGxyAAAAAAAAAAB2aWRlAAAAAAAAAAAAAAAAVmlkZW9IYW5kbGVyAAAACsxtaW5mAAAAFHZtaGQAAAABAAAAAAAAAAAAAAAkZGluZgAAABxkcmVmAAAAAAAAAAEAAAAMdXJsIAAAAAEAAAqMc3RibAAAAJhzdHNkAAAAAAAAAAEAAACIYXZjMQAAAAAAAAABAAAAAAAAAAAAAAAAAAAAAAJYAZAASAAAAEgAAAAAAAAAAQAAAAAAAAAAAAAAAAAAAAAAAAAAAAAAAAAAAAAAAAAAABj//wAAADJhdmNDAWQAH//hABlnZAAfrNlAmDPl4QAAAwABAAADAGQPGDGWAQAGaOvjyyLAAAAAGHN0dHMAAAAAAAAAAQAAAMkAAAEAAAAAFHN0c3MAAAAAAAAAAQAAAAEAAAZYY3R0cwAAAAAAAADJAAAAAQAAAgAAAAABAAAFAAAAAAEAAAIAAAAAAQAAAAAAAAABAAABAAAAAAEAAAUAAAAAAQAAAgAAAAABAAAAAAAAAAEAAAEAAAAAAQAABQAAAAABAAACAAAAAAEAAAAAAAAAAQAAAQAAAAABAAADAAAAAAEAAAEAAAAAAQAABQAAAAABAAACAAAAAAEAAAAAAAAAAQAAAQAAAAABAAAFAAAAAAEAAAIAAAAAAQAAAAAAAAABAAABAAAAAAEAAAUAAAAAAQAAAgAAAAABAAAAAAAAAAEAAAEAAAAAAQAABQAAAAABAAACAAAAAAEAAAAAAAAAAQAAAQAAAAABAAAFAAAAAAEAAAIAAAAAAQAAAAAAAAABAAABAAAAAAEAAAUAAAAAAQAAAgAAAAABAAAAAAAAAAEAAAEAAAAAAQAABQAAAAABAAACAAAAAAEAAAAAAAAAAQAAAQAAAAABAAAFAAAAAAEAAAIAAAAAAQAAAAAAAAABAAABAAAAAAEAAAUAAAAAAQAAAgAAAAABAAAAAAAAAAEAAAEAAAAAAQAABQAAAAABAAACAAAAAAEAAAAAAAAAAQAAAQAAAAABAAAFAAAAAAEAAAIAAAAAAQAAAAAAAAABAAABAAAAAAEAAAUAAAAAAQAAAgAAAAABAAAAAAAAAAEAAAEAAAAAAQAABQAAAAABAAACAAAAAAEAAAAAAAAAAQAAAQAAAAABAAAFAAAAAAEAAAIAAAAAAQAAAAAAAAABAAABAAAAAAEAAAUAAAAAAQAAAgAAAAABAAAAAAAAAAEAAAEAAAAAAQAABQAAAAABAAACAAAAAAEAAAAAAAAAAQAAAQAAAAABAAAFAAAAAAEAAAIAAAAAAQAAAAAAAAABAAABAAAAAAEAAAUAAAAAAQAAAgAAAAABAAAAAAAAAAEAAAEAAAAAAQAABQAAAAABAAACAAAAAAEAAAAAAAAAAQAAAQAAAAABAAAFAAAAAAEAAAIAAAAAAQAAAAAAAAABAAABAAAAAAEAAAUAAAAAAQAAAgAAAAABAAAAAAAAAAEAAAEAAAAAAQAABQAAAAABAAACAAAAAAEAAAAAAAAAAQAAAQAAAAABAAAFAAAAAAEAAAIAAAAAAQAAAAAAAAABAAABAAAAAAEAAAUAAAAAAQAAAgAAAAABAAAAAAAAAAEAAAEAAAAAAQAABQAAAAABAAACAAAAAAEAAAAAAAAAAQAAAQAAAAABAAAFAAAAAAEAAAIAAAAAAQAAAAAAAAABAAABAAAAAAEAAAUAAAAAAQAAAgAAAAABAAAAAAAAAAEAAAEAAAAAAQAABQAAAAABAAACAAAAAAEAAAAAAAAAAQAAAQAAAAABAAAFAAAAAAEAAAIAAAAAAQAAAAAAAAABAAABAAAAAAEAAAUAAAAAAQAAAgAAAAABAAAAAAAAAAEAAAEAAAAAAQAABQAAAAABAAACAAAAAAEAAAAAAAAAAQAAAQAAAAABAAAFAAAAAAEAAAIAAAAAAQAAAAAAAAABAAABAAAAAAEAAAUAAAAAAQAAAgAAAAABAAAAAAAAAAEAAAEAAAAAAQAABQAAAAABAAACAAAAAAEAAAAAAAAAAQAAAQAAAAABAAAFAAAAAAEAAAIAAAAAAQAAAAAAAAABAAABAAAAAAEAAAUAAAAAAQAAAgAAAAABAAAAAAAAAAEAAAEAAAAAAQAABQAAAAABAAACAAAAAAEAAAAAAAAAAQAAAQAAAAABAAAFAAAAAAEAAAIAAAAAAQAAAAAAAAABAAABAAAAAAEAAAUAAAAAAQAAAgAAAAABAAAAAAAAAAEAAAEAAAAAAQAABQAAAAABAAACAAAAAAEAAAAAAAAAAQAAAQAAAAABAAAFAAAAAAEAAAIAAAAAAQAAAAAAAAABAAABAAAAAAEAAAUAAAAAAQAAAgAAAAABAAAAAAAAAAEAAAEAAAAAAQAABQAAAAABAAACAAAAAAEAAAAAAAAAAQAAAQAAAAABAAAFAAAAAAEAAAIAAAAAAQAAAAAAAAABAAABAAAAAAEAAAUAAAAAAQAAAgAAAAABAAAAAAAAAAEAAAEAAAAAAQAABQAAAAABAAACAAAAAAEAAAAAAAAAAQAAAQAAAAABAAADAAAAAAEAAAEAAAAAHHN0c2MAAAAAAAAAAQAAAAEAAADJAAAAAQAAAzhzdHN6AAAAAAAAAAAAAADJAAAEXAAAAKMAAAA6AAAALgAAACYAAACHAAAAOgAAADkAAAA4AAAAbAAAAC4AAAAzAAAAIwAAAEYAAAAyAAAARAAAADoAAAApAAAALwAAAFoAAAAxAAAAGAAAACIAAABPAAAAMgAAACEAAAAgAAAAUwAAACAAAAAWAAAAJgAAAC0AAAAhAAAAHQAAABcAAAA/AAAALwAAABwAAAArAAAAQgAAABsAAAAqAAAAFgAAACwAAAA4AAAALQAAAC8AAAA7AAAANgAAADUAAAAaAAAAPgAAACIAAAAYAAAAHAAAAC4AAAAiAAAALQAAABYAAAAsAAAALwAAABsAAAAqAAAAOAAAABkAAAAWAAAAFAAAADEAAAAzAAAAGwAAAC8AAABZAAAANwAAADEAAAAYAAAANwAAACwAAAAcAAAAIQAAADQAAAAjAAAAKwAAABcAAAAiAAAALgAAABoAAAAcAAAANQAAACIAAAAWAAAAHQAAAC4AAAAhAAAALgAAAB0AAAA6AAAAMgAAABcAAAAkAAAAOwAAACcAAAAtAAAAIQAAADEAAAAgAAAAFQAAABcAAAAiAAAAGAAAABYAAAASAAAALAAAABkAAAAWAAAAEgAAABsAAAAaAAAAFgAAABcAAABGAAAAOgAAAB4AAAAjAAAATQAAACoAAAA0AAAAGwAAAFsAAAAxAAAAJAAAABwAAAA7AAAAHQAAAB4AAAASAAAATQAAACEAAAAWAAAAGgAAADYAAAAfAAAAHQAAABgAAAArAAAAMAAAABwAAAAeAAAAPwAAABsAAAA1AAAAFgAAADIAAAArAAAAIAAAAC0AAAA4AAAAMwAAACEAAAAuAAAAGwAAABsAAAAWAAAAFwAAACIAAAAZAAAAEgAAABcAAAAiAAAAGQAAACMAAAAXAAAAIgAAABgAAAAWAAAAFwAAADUAAAAnAAAAFgAAADQAAABgAAAAJgAAABkAAAAeAAAATQAAACcAAAAyAAAAJgAAAEsAAAA7AAAAIwAAACYAAAAbAAAANAAAABwAAAAeAAAAIQAAABcAAAASAAAAFQAAADMAAAAcAAAAFHN0Y28AAAAAAAAAAQAAADAAAABidWR0YQAAAFptZXRhAAAAAAAAACFoZGxyAAAAAAAAAABtZGlyYXBwbAAAAAAAAAAAAAAAAC1pbHN0AAAAJal0b28AAAAdZGF0YQAAAAEAAAAATGF2ZjU3LjgzLjEwMA==\" type=\"video/mp4\" />\n",
              "             </video>"
            ],
            "text/plain": [
              "<IPython.core.display.HTML object>"
            ]
          },
          "metadata": {}
        },
        {
          "output_type": "display_data",
          "data": {
            "image/png": "[encoded data removed]",
            "text/plain": [
              "<Figure size 432x288 with 1 Axes>"
            ]
          },
          "metadata": {
            "needs_background": "light"
          }
        }
      ]
    },
    {
      "cell_type": "markdown",
      "metadata": {
        "id": "ZKOlKs1D_FKY"
      },
      "source": [
        "## Avaliação\n",
        "\n",
        "Para concluir com sucesso este exercício com avaliação 100%, seu algoritmo deve  gerar uma rede neural capaz de controlar o pêngulo gerando uma soma total de reforços R=1.02. Se você conseguir menos que 1.01 < R < 1.02 sua nota será reduzida para 70%, e se conseguir 0.5 < R < 1.0 sua nota será 50%. Se R < 0.5 ou se o código não executar, sua nota será nula para este exercício."
      ]
    }
  ]
}